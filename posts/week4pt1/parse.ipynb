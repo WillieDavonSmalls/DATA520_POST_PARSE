{
 "cells": [
  {
   "cell_type": "code",
   "execution_count": 2,
   "metadata": {},
   "outputs": [],
   "source": [
    "import os\n",
    "import pandas as pd\n",
    "from bs4 import BeautifulSoup\n",
    "\n",
    "posts = []\n",
    "directory = os.getcwd()\n",
    "for filename in os.listdir(directory):\n",
    "    if filename.endswith(\".txt\"): \n",
    "        file = open(filename, \"rb\")\n",
    "        thread = file.read()\n",
    "        thread = BeautifulSoup(thread, \"html.parser\")\n",
    "\n",
    "        time_stamp = thread.select(\".db_msg_metadata\")\n",
    "        subject = thread.select(\".message-subject\")\n",
    "        author = thread.select(\".author\")\n",
    "        post = thread.select(\".vtbegenerated\")\n",
    "\n",
    "        # print(thread)\n",
    "\n",
    "        time_stamp_lst = [time.text for time in time_stamp]\n",
    "        subject_lst = [subject_name.text.strip() for subject_name in subject]\n",
    "        author_lst = [author_name.text.strip() for author_name in author]\n",
    "        post_msg_lst = [post_msg.text.strip() for post_msg in post]\n",
    "\n",
    "        \n",
    "        for j in range(len(post_msg_lst)):\n",
    "\n",
    "            row = []\n",
    "            \n",
    "            row.append(subject_lst[j])\n",
    "            row.append(j)\n",
    "            row.append(author_lst[j])\n",
    "            row.append(author_lst[0])\n",
    "            row.append(post_msg_lst[j])\n",
    "            row.append(time_stamp_lst[j])\n",
    "            posts.append(row)\n",
    "            \n",
    "posts_df = pd.DataFrame(posts)\n",
    "posts_df.columns = ['Thread_Name', 'Initial_Post_or_Comment', 'Author', 'Response_To', 'Thread_Content', 'Time_Stamp']\n",
    "posts_df\n",
    "\n",
    "posts_df.to_csv(\"week4pt1.csv\")"
   ]
  },
  {
   "cell_type": "code",
   "execution_count": null,
   "metadata": {},
   "outputs": [],
   "source": []
  }
 ],
 "metadata": {
  "kernelspec": {
   "display_name": "anaconda_kernel",
   "language": "python",
   "name": "anaconda_kernel"
  },
  "language_info": {
   "codemirror_mode": {
    "name": "ipython",
    "version": 3
   },
   "file_extension": ".py",
   "mimetype": "text/x-python",
   "name": "python",
   "nbconvert_exporter": "python",
   "pygments_lexer": "ipython3",
   "version": "3.6.10"
  }
 },
 "nbformat": 4,
 "nbformat_minor": 4
}
